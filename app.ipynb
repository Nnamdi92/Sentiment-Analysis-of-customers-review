{
 "cells": [
  {
   "cell_type": "code",
   "execution_count": 9,
   "id": "5b549f11",
   "metadata": {},
   "outputs": [
    {
     "name": "stdout",
     "output_type": "stream",
     "text": [
      " * Serving Flask app '__main__'\n",
      " * Debug mode: on\n"
     ]
    },
    {
     "name": "stderr",
     "output_type": "stream",
     "text": [
      "WARNING: This is a development server. Do not use it in a production deployment. Use a production WSGI server instead.\n",
      " * Running on http://127.0.0.1:5000\n",
      "Press CTRL+C to quit\n",
      "127.0.0.1 - - [20/Jun/2024 08:23:35] \"GET / HTTP/1.1\" 200 -\n",
      "127.0.0.1 - - [20/Jun/2024 08:23:45] \"POST /predict HTTP/1.1\" 200 -\n",
      "127.0.0.1 - - [20/Jun/2024 08:23:52] \"POST /predict HTTP/1.1\" 200 -\n"
     ]
    }
   ],
   "source": [
    "from flask import Flask, request, jsonify, render_template, send_file\n",
    "import joblib\n",
    "import pandas as pd\n",
    "from werkzeug.utils import secure_filename\n",
    "import os\n",
    "import threading\n",
    "\n",
    "app = Flask(__name__)\n",
    "\n",
    "# Load the model and vectorizer\n",
    "model = joblib.load('model.pkl')\n",
    "vectorizer = joblib.load('vectorizer.pkl')\n",
    "\n",
    "# Define a directory to save uploaded files\n",
    "UPLOAD_FOLDER = 'uploads'\n",
    "if not os.path.exists(UPLOAD_FOLDER):\n",
    "    os.makedirs(UPLOAD_FOLDER)\n",
    "app.config['UPLOAD_FOLDER'] = UPLOAD_FOLDER\n",
    "\n",
    "@app.route('/')\n",
    "def home():\n",
    "    return render_templates('index.html')\n",
    "\n",
    "@app.route('/predict', methods=['POST'])\n",
    "def predict():\n",
    "    if 'file' in request.files:\n",
    "        file = request.files['file']\n",
    "        if file.filename == '':\n",
    "            return \"No selected file\", 400\n",
    "\n",
    "        filename = secure_filename(file.filename)\n",
    "        filepath = os.path.join(app.config['UPLOAD_FOLDER'], filename)\n",
    "        file.save(filepath)\n",
    "\n",
    "        # Read the CSV file\n",
    "        data = pd.read_csv(filepath)\n",
    "        \n",
    "        # Ensure the text column does not contain NaN values\n",
    "        if 'text' not in data.columns:\n",
    "            return \"No 'text' column found in the uploaded file\", 400\n",
    "        data['text'] = data['text'].fillna('')\n",
    "\n",
    "        # Vectorize the data\n",
    "        data_vectorized = vectorizer.transform(data['text'])\n",
    "        \n",
    "        # Make predictions\n",
    "        predictions = model.predict(data_vectorized)\n",
    "        \n",
    "        # Map predictions to sentiments\n",
    "        data['sentiment'] = predictions\n",
    "        \n",
    "        # Save the predictions to a new CSV file\n",
    "        predictions_filepath = os.path.join(app.config['UPLOAD_FOLDER'], 'predictions.csv')\n",
    "        data.to_csv(predictions_filepath, index=False)\n",
    "        \n",
    "        # Send the file as response\n",
    "        return send_file(predictions_filepath, as_attachment=True, download_name='predictions.csv')\n",
    "\n",
    "    elif request.json and 'text' in request.json:\n",
    "        text = request.json['text']\n",
    "        \n",
    "        # Vectorize the input text\n",
    "        input_data_vectorized = vectorizer.transform([text])\n",
    "        \n",
    "        # Make prediction\n",
    "        prediction = model.predict(input_data_vectorized)[0]\n",
    "        \n",
    "        return jsonify({'prediction': prediction})\n",
    "\n",
    "    return \"No file or text input provided\", 400\n",
    "\n",
    "def run_app():\n",
    "    app.run(debug=True, use_reloader=False)\n",
    "\n",
    "# Run the Flask app in a separate thread to avoid blocking the Jupyter Notebook\n",
    "if __name__ == '__main__':\n",
    "    threading.Thread(target=run_app).start()\n"
   ]
  }
 ],
 "metadata": {
  "kernelspec": {
   "display_name": "Python 3 (ipykernel)",
   "language": "python",
   "name": "python3"
  },
  "language_info": {
   "codemirror_mode": {
    "name": "ipython",
    "version": 3
   },
   "file_extension": ".py",
   "mimetype": "text/x-python",
   "name": "python",
   "nbconvert_exporter": "python",
   "pygments_lexer": "ipython3",
   "version": "3.11.4"
  }
 },
 "nbformat": 4,
 "nbformat_minor": 5
}
